{
 "cells": [
  {
   "cell_type": "code",
   "execution_count": 1,
   "metadata": {
    "id": "SNhCICNPmSn_"
   },
   "outputs": [
    {
     "data": {
      "text/plain": [
       "{'trends': [{'trend_name': 'AI-Powered Personalization',\n",
       "   'supporting_data': '73% of consumers prefer to do business with brands that use personal information to make their shopping experiences more relevant.'},\n",
       "  {'trend_name': 'Sustainable and Ethical Brands',\n",
       "   'supporting_data': 'Sales of products with ESG-related claims grew 28% over the last five years, compared to 20% for products without.'}]}"
      ]
     },
     "execution_count": 1,
     "metadata": {},
     "output_type": "execute_result"
    }
   ],
   "source": [
    "{\n",
    "  \"trends\": [\n",
    "    {\n",
    "      \"trend_name\": \"AI-Powered Personalization\",\n",
    "      \"supporting_data\": \"73% of consumers prefer to do business with brands that use personal information to make their shopping experiences more relevant.\"\n",
    "    },\n",
    "    {\n",
    "      \"trend_name\": \"Sustainable and Ethical Brands\",\n",
    "      \"supporting_data\": \"Sales of products with ESG-related claims grew 28% over the last five years, compared to 20% for products without.\"\n",
    "    }\n",
    "  ]\n",
    "}"
   ]
  }
 ],
 "metadata": {
  "colab": {
   "provenance": []
  },
  "kernelspec": {
   "display_name": "21_agentic_patterns",
   "language": "python",
   "name": "python3"
  },
  "language_info": {
   "codemirror_mode": {
    "name": "ipython",
    "version": 3
   },
   "file_extension": ".py",
   "mimetype": "text/x-python",
   "name": "python",
   "nbconvert_exporter": "python",
   "pygments_lexer": "ipython3",
   "version": "3.12.0"
  }
 },
 "nbformat": 4,
 "nbformat_minor": 0
}
