{
 "cells": [
  {
   "cell_type": "code",
   "execution_count": 1,
   "metadata": {
    "id": "nK_pld77wNd9"
   },
   "outputs": [
    {
     "name": "stderr",
     "output_type": "stream",
     "text": [
      "/Users/lucamassaron/Desktop/workbench/21_agentic_patterns/.venv/lib/python3.12/site-packages/tqdm/auto.py:21: TqdmWarning: IProgress not found. Please update jupyter and ipywidgets. See https://ipywidgets.readthedocs.io/en/stable/user_install.html\n",
      "  from .autonotebook import tqdm as notebook_tqdm\n"
     ]
    },
    {
     "name": "stdout",
     "output_type": "stream",
     "text": [
      "Error initializing language model: Your default credentials were not found. To set up Application Default Credentials, see https://cloud.google.com/docs/authentication/external/set-up-adc for more information.\n"
     ]
    },
    {
     "ename": "NameError",
     "evalue": "name 'coordinator_router_chain' is not defined",
     "output_type": "error",
     "traceback": [
      "\u001b[31m---------------------------------------------------------------------------\u001b[39m",
      "\u001b[31mNameError\u001b[39m                                 Traceback (most recent call last)",
      "\u001b[36mCell\u001b[39m\u001b[36m \u001b[39m\u001b[32mIn[1]\u001b[39m\u001b[32m, line 73\u001b[39m\n\u001b[32m     63\u001b[39m delegation_branch = RunnableBranch(\n\u001b[32m     64\u001b[39m     (\u001b[38;5;28;01mlambda\u001b[39;00m x: x[\u001b[33m'\u001b[39m\u001b[33mdecision\u001b[39m\u001b[33m'\u001b[39m].strip() == \u001b[33m'\u001b[39m\u001b[33mbooker\u001b[39m\u001b[33m'\u001b[39m, branches[\u001b[33m\"\u001b[39m\u001b[33mbooker\u001b[39m\u001b[33m\"\u001b[39m]), \u001b[38;5;66;03m# Added .strip()\u001b[39;00m\n\u001b[32m     65\u001b[39m     (\u001b[38;5;28;01mlambda\u001b[39;00m x: x[\u001b[33m'\u001b[39m\u001b[33mdecision\u001b[39m\u001b[33m'\u001b[39m].strip() == \u001b[33m'\u001b[39m\u001b[33minfo\u001b[39m\u001b[33m'\u001b[39m, branches[\u001b[33m\"\u001b[39m\u001b[33minfo\u001b[39m\u001b[33m\"\u001b[39m]),     \u001b[38;5;66;03m# Added .strip()\u001b[39;00m\n\u001b[32m     66\u001b[39m     branches[\u001b[33m\"\u001b[39m\u001b[33munclear\u001b[39m\u001b[33m\"\u001b[39m] \u001b[38;5;66;03m# Default branch for 'unclear' or any other output\u001b[39;00m\n\u001b[32m     67\u001b[39m )\n\u001b[32m     69\u001b[39m \u001b[38;5;66;03m# Combine the router chain and the delegation branch into a single runnable\u001b[39;00m\n\u001b[32m     70\u001b[39m \u001b[38;5;66;03m# The router chain's output ('decision') is passed along with the original input ('request')\u001b[39;00m\n\u001b[32m     71\u001b[39m \u001b[38;5;66;03m# to the delegation_branch.\u001b[39;00m\n\u001b[32m     72\u001b[39m coordinator_agent = {\n\u001b[32m---> \u001b[39m\u001b[32m73\u001b[39m     \u001b[33m\"\u001b[39m\u001b[33mdecision\u001b[39m\u001b[33m\"\u001b[39m: \u001b[43mcoordinator_router_chain\u001b[49m,\n\u001b[32m     74\u001b[39m     \u001b[33m\"\u001b[39m\u001b[33mrequest\u001b[39m\u001b[33m\"\u001b[39m: RunnablePassthrough()\n\u001b[32m     75\u001b[39m } | delegation_branch | (\u001b[38;5;28;01mlambda\u001b[39;00m x: x[\u001b[33m'\u001b[39m\u001b[33moutput\u001b[39m\u001b[33m'\u001b[39m]) \u001b[38;5;66;03m# Extract the final output\u001b[39;00m\n\u001b[32m     77\u001b[39m \u001b[38;5;66;03m# --- Example Usage ---\u001b[39;00m\n\u001b[32m     78\u001b[39m \u001b[38;5;28;01mdef\u001b[39;00m\u001b[38;5;250m \u001b[39m\u001b[34mmain\u001b[39m():\n",
      "\u001b[31mNameError\u001b[39m: name 'coordinator_router_chain' is not defined"
     ]
    }
   ],
   "source": [
    "# Copyright (c) 2025 Marco Fago\n",
    "#\n",
    "# This code is licensed under the MIT License.\n",
    "# See the LICENSE file in the repository for the full license text.\n",
    "\n",
    "from langchain_google_genai import ChatGoogleGenerativeAI\n",
    "from langchain_core.prompts import ChatPromptTemplate\n",
    "from langchain_core.output_parsers import StrOutputParser\n",
    "from langchain_core.runnables import RunnablePassthrough, RunnableBranch\n",
    "\n",
    "# --- Configuration ---\n",
    "# Ensure your API key environment variable is set (e.g., GOOGLE_API_KEY)\n",
    "try:\n",
    "    llm = ChatGoogleGenerativeAI(model=\"gemini-2.5-flash\", temperature=0)\n",
    "    print(f\"Language model initialized: {llm.model}\")\n",
    "except Exception as e:\n",
    "    print(f\"Error initializing language model: {e}\")\n",
    "    llm = None\n",
    "\n",
    "# --- Define Simulated Sub-Agent Handlers (equivalent to ADK sub_agents) ---\n",
    "\n",
    "def booking_handler(request: str) -> str:\n",
    "    \"\"\"Simulates the Booking Agent handling a request.\"\"\"\n",
    "    print(\"\\n--- DELEGATING TO BOOKING HANDLER ---\")\n",
    "    return f\"Booking Handler processed request: '{request}'. Result: Simulated booking action.\"\n",
    "\n",
    "def info_handler(request: str) -> str:\n",
    "    \"\"\"Simulates the Info Agent handling a request.\"\"\"\n",
    "    print(\"\\n--- DELEGATING TO INFO HANDLER ---\")\n",
    "    return f\"Info Handler processed request: '{request}'. Result: Simulated information retrieval.\"\n",
    "\n",
    "def unclear_handler(request: str) -> str:\n",
    "    \"\"\"Handles requests that couldn't be delegated.\"\"\"\n",
    "    print(\"\\n--- HANDLING UNCLEAR REQUEST ---\")\n",
    "    return f\"Coordinator could not delegate request: '{request}'. Please clarify.\"\n",
    "\n",
    "# --- Define Coordinator Router Chain (equivalent to ADK coordinator's instruction) ---\n",
    "# This chain decides which handler to delegate to.\n",
    "coordinator_router_prompt = ChatPromptTemplate.from_messages([\n",
    "    (\"system\", \"\"\"Analyze the user's request and determine which specialist handler should process it.\n",
    "     - If the request is related to booking flights or hotels, output 'booker'.\n",
    "     - For all other general information questions, output 'info'.\n",
    "     - If the request is unclear or doesn't fit either category, output 'unclear'.\n",
    "     ONLY output one word: 'booker', 'info', or 'unclear'.\"\"\"),\n",
    "    (\"user\", \"{request}\")\n",
    "])\n",
    "\n",
    "if llm:\n",
    "    coordinator_router_chain = coordinator_router_prompt | llm | StrOutputParser()\n",
    "\n",
    "# --- Define the Delegation Logic (equivalent to ADK's Auto-Flow based on sub_agents) ---\n",
    "# Use RunnableBranch to route based on the router chain's output.\n",
    "\n",
    "# Define the branches for the RunnableBranch\n",
    "branches = {\n",
    "    \"booker\": RunnablePassthrough.assign(output=lambda x: booking_handler(x['request']['request'])),\n",
    "    \"info\": RunnablePassthrough.assign(output=lambda x: info_handler(x['request']['request'])),\n",
    "    \"unclear\": RunnablePassthrough.assign(output=lambda x: unclear_handler(x['request']['request'])),\n",
    "}\n",
    "\n",
    "# Create the RunnableBranch. It takes the output of the router chain\n",
    "# and routes the original input ('request') to the corresponding handler.\n",
    "delegation_branch = RunnableBranch(\n",
    "    (lambda x: x['decision'].strip() == 'booker', branches[\"booker\"]), # Added .strip()\n",
    "    (lambda x: x['decision'].strip() == 'info', branches[\"info\"]),     # Added .strip()\n",
    "    branches[\"unclear\"] # Default branch for 'unclear' or any other output\n",
    ")\n",
    "\n",
    "# Combine the router chain and the delegation branch into a single runnable\n",
    "# The router chain's output ('decision') is passed along with the original input ('request')\n",
    "# to the delegation_branch.\n",
    "coordinator_agent = {\n",
    "    \"decision\": coordinator_router_chain,\n",
    "    \"request\": RunnablePassthrough()\n",
    "} | delegation_branch | (lambda x: x['output']) # Extract the final output\n",
    "\n",
    "# --- Example Usage ---\n",
    "def main():\n",
    "    if not llm:\n",
    "        print(\"\\nSkipping execution due to LLM initialization failure.\")\n",
    "        return\n",
    "\n",
    "    print(\"--- Running with a booking request ---\")\n",
    "    request_a = \"Book me a flight to London.\"\n",
    "    result_a = coordinator_agent.invoke({\"request\": request_a})\n",
    "    print(f\"Final Result A: {result_a}\")\n",
    "\n",
    "    print(\"\\n--- Running with an info request ---\")\n",
    "    request_b = \"What is the capital of Italy?\"\n",
    "    result_b = coordinator_agent.invoke({\"request\": request_b})\n",
    "    print(f\"Final Result B: {result_b}\")\n",
    "\n",
    "    print(\"\\n--- Running with an unclear request ---\")\n",
    "    request_c = \"Tell me about quantum physics.\"\n",
    "    result_c = coordinator_agent.invoke({\"request\": request_c})\n",
    "    print(f\"Final Result C: {result_c}\")\n",
    "\n",
    "if __name__ == \"__main__\":\n",
    "    main()"
   ]
  }
 ],
 "metadata": {
  "colab": {
   "provenance": []
  },
  "kernelspec": {
   "display_name": "21_agentic_patterns",
   "language": "python",
   "name": "python3"
  },
  "language_info": {
   "codemirror_mode": {
    "name": "ipython",
    "version": 3
   },
   "file_extension": ".py",
   "mimetype": "text/x-python",
   "name": "python",
   "nbconvert_exporter": "python",
   "pygments_lexer": "ipython3",
   "version": "3.12.0"
  }
 },
 "nbformat": 4,
 "nbformat_minor": 0
}
